{
 "cells": [
  {
   "cell_type": "markdown",
   "id": "subtle-builder",
   "metadata": {},
   "source": [
    "# EGR1 Binary Classifier without Feature Selection"
   ]
  },
  {
   "cell_type": "markdown",
   "id": "empirical-collect",
   "metadata": {},
   "source": [
    "## Import libraries"
   ]
  },
  {
   "cell_type": "code",
   "execution_count": 1,
   "id": "southeast-minutes",
   "metadata": {},
   "outputs": [],
   "source": [
    "import os\n",
    "import pandas as pd\n",
    "import numpy as np\n",
    "\n",
    "from sklearn.model_selection import train_test_split\n",
    "\n",
    "from sklearn.linear_model import SGDClassifier\n",
    "from sklearn.model_selection import cross_val_score\n",
    "\n",
    "from sklearn.linear_model import LogisticRegression\n",
    "from matplotlib import pyplot\n",
    "\n",
    "from sklearn.tree import DecisionTreeClassifier\n",
    "from sklearn.tree import plot_tree\n",
    "from sklearn.metrics import accuracy_score\n",
    "\n",
    "from sklearn.linear_model import ElasticNet\n",
    "\n",
    "from sklearn.feature_selection import SelectKBest\n",
    "from sklearn.feature_selection import f_classif\n",
    "from sklearn.feature_selection import f_regression"
   ]
  },
  {
   "cell_type": "markdown",
   "id": "played-alignment",
   "metadata": {},
   "source": [
    "## Fetching the data"
   ]
  },
  {
   "cell_type": "code",
   "execution_count": 2,
   "id": "sustained-result",
   "metadata": {},
   "outputs": [],
   "source": [
    "EGR1_PATH = \"./data/GA\"\n",
    "def load_egr1_data(file_path = EGR1_PATH):\n",
    "    return pd.read_csv(file_path, sep=\"\\t\")\n",
    "\n",
    "GENE_MAP_PATH = \"./data/probeMap-hugo_refgene_good_hg18_probemap\"\n",
    "def load_gene_mapping(file_path = GENE_MAP_PATH):\n",
    "    return pd.read_csv(file_path, sep=\"\\t\")"
   ]
  },
  {
   "cell_type": "code",
   "execution_count": 3,
   "id": "perceived-third",
   "metadata": {},
   "outputs": [
    {
     "data": {
      "text/html": [
       "<div>\n",
       "<style scoped>\n",
       "    .dataframe tbody tr th:only-of-type {\n",
       "        vertical-align: middle;\n",
       "    }\n",
       "\n",
       "    .dataframe tbody tr th {\n",
       "        vertical-align: top;\n",
       "    }\n",
       "\n",
       "    .dataframe thead th {\n",
       "        text-align: right;\n",
       "    }\n",
       "</style>\n",
       "<table border=\"1\" class=\"dataframe\">\n",
       "  <thead>\n",
       "    <tr style=\"text-align: right;\">\n",
       "      <th></th>\n",
       "      <th>sample</th>\n",
       "      <th>TCGA-AB-2880-03</th>\n",
       "      <th>TCGA-AB-2819-03</th>\n",
       "      <th>TCGA-AB-2875-03</th>\n",
       "      <th>TCGA-AB-2808-03</th>\n",
       "      <th>TCGA-AB-2848-03</th>\n",
       "      <th>TCGA-AB-2841-03</th>\n",
       "      <th>TCGA-AB-2910-03</th>\n",
       "      <th>TCGA-AB-2920-03</th>\n",
       "      <th>TCGA-AB-2986-03</th>\n",
       "      <th>...</th>\n",
       "      <th>TCGA-AB-2946-03</th>\n",
       "      <th>TCGA-AB-2999-03</th>\n",
       "      <th>TCGA-AB-2938-03</th>\n",
       "      <th>TCGA-AB-2913-03</th>\n",
       "      <th>TCGA-AB-2810-03</th>\n",
       "      <th>TCGA-AB-2924-03</th>\n",
       "      <th>TCGA-AB-2937-03</th>\n",
       "      <th>TCGA-AB-2966-03</th>\n",
       "      <th>TCGA-AB-3012-03</th>\n",
       "      <th>TCGA-AB-2954-03</th>\n",
       "    </tr>\n",
       "  </thead>\n",
       "  <tbody>\n",
       "    <tr>\n",
       "      <th>0</th>\n",
       "      <td>UBE2Q1</td>\n",
       "      <td>4.5844</td>\n",
       "      <td>4.9574</td>\n",
       "      <td>4.6304</td>\n",
       "      <td>4.6482</td>\n",
       "      <td>4.5685</td>\n",
       "      <td>4.6315</td>\n",
       "      <td>4.8461</td>\n",
       "      <td>4.9947</td>\n",
       "      <td>5.1369</td>\n",
       "      <td>...</td>\n",
       "      <td>4.7872</td>\n",
       "      <td>4.6204</td>\n",
       "      <td>4.9043</td>\n",
       "      <td>4.5906</td>\n",
       "      <td>5.1216</td>\n",
       "      <td>4.7572</td>\n",
       "      <td>5.0893</td>\n",
       "      <td>5.0708</td>\n",
       "      <td>4.5537</td>\n",
       "      <td>4.6225</td>\n",
       "    </tr>\n",
       "    <tr>\n",
       "      <th>1</th>\n",
       "      <td>HIF3A</td>\n",
       "      <td>0.0039</td>\n",
       "      <td>0.7462</td>\n",
       "      <td>0.6472</td>\n",
       "      <td>0.0305</td>\n",
       "      <td>0.0206</td>\n",
       "      <td>0.0000</td>\n",
       "      <td>0.0068</td>\n",
       "      <td>0.0105</td>\n",
       "      <td>0.0062</td>\n",
       "      <td>...</td>\n",
       "      <td>0.0000</td>\n",
       "      <td>0.0377</td>\n",
       "      <td>0.1892</td>\n",
       "      <td>0.0342</td>\n",
       "      <td>0.0230</td>\n",
       "      <td>0.0158</td>\n",
       "      <td>3.3688</td>\n",
       "      <td>0.0541</td>\n",
       "      <td>0.0171</td>\n",
       "      <td>0.0126</td>\n",
       "    </tr>\n",
       "    <tr>\n",
       "      <th>2</th>\n",
       "      <td>RNF17</td>\n",
       "      <td>0.0338</td>\n",
       "      <td>0.0201</td>\n",
       "      <td>0.0000</td>\n",
       "      <td>0.0260</td>\n",
       "      <td>0.0263</td>\n",
       "      <td>0.0205</td>\n",
       "      <td>0.0178</td>\n",
       "      <td>0.0119</td>\n",
       "      <td>0.0000</td>\n",
       "      <td>...</td>\n",
       "      <td>0.0259</td>\n",
       "      <td>0.0345</td>\n",
       "      <td>0.0053</td>\n",
       "      <td>0.0404</td>\n",
       "      <td>0.0335</td>\n",
       "      <td>0.0000</td>\n",
       "      <td>0.0240</td>\n",
       "      <td>0.0334</td>\n",
       "      <td>0.0009</td>\n",
       "      <td>0.0014</td>\n",
       "    </tr>\n",
       "    <tr>\n",
       "      <th>3</th>\n",
       "      <td>RNF10</td>\n",
       "      <td>5.9150</td>\n",
       "      <td>5.5003</td>\n",
       "      <td>5.6430</td>\n",
       "      <td>5.7971</td>\n",
       "      <td>6.0917</td>\n",
       "      <td>6.3663</td>\n",
       "      <td>5.6803</td>\n",
       "      <td>6.0212</td>\n",
       "      <td>5.5240</td>\n",
       "      <td>...</td>\n",
       "      <td>5.5981</td>\n",
       "      <td>5.6837</td>\n",
       "      <td>5.7704</td>\n",
       "      <td>5.6478</td>\n",
       "      <td>6.4578</td>\n",
       "      <td>5.6424</td>\n",
       "      <td>5.9336</td>\n",
       "      <td>5.4772</td>\n",
       "      <td>5.9701</td>\n",
       "      <td>5.3745</td>\n",
       "    </tr>\n",
       "    <tr>\n",
       "      <th>4</th>\n",
       "      <td>RNF11</td>\n",
       "      <td>4.1399</td>\n",
       "      <td>4.7407</td>\n",
       "      <td>4.1058</td>\n",
       "      <td>4.8867</td>\n",
       "      <td>4.0516</td>\n",
       "      <td>4.7545</td>\n",
       "      <td>4.2329</td>\n",
       "      <td>3.7790</td>\n",
       "      <td>4.6918</td>\n",
       "      <td>...</td>\n",
       "      <td>4.2740</td>\n",
       "      <td>4.6785</td>\n",
       "      <td>4.7170</td>\n",
       "      <td>4.5241</td>\n",
       "      <td>5.2825</td>\n",
       "      <td>4.2691</td>\n",
       "      <td>5.0298</td>\n",
       "      <td>5.0714</td>\n",
       "      <td>5.0994</td>\n",
       "      <td>3.9462</td>\n",
       "    </tr>\n",
       "  </tbody>\n",
       "</table>\n",
       "<p>5 rows × 180 columns</p>\n",
       "</div>"
      ],
      "text/plain": [
       "   sample  TCGA-AB-2880-03  TCGA-AB-2819-03  TCGA-AB-2875-03  TCGA-AB-2808-03  \\\n",
       "0  UBE2Q1           4.5844           4.9574           4.6304           4.6482   \n",
       "1   HIF3A           0.0039           0.7462           0.6472           0.0305   \n",
       "2   RNF17           0.0338           0.0201           0.0000           0.0260   \n",
       "3   RNF10           5.9150           5.5003           5.6430           5.7971   \n",
       "4   RNF11           4.1399           4.7407           4.1058           4.8867   \n",
       "\n",
       "   TCGA-AB-2848-03  TCGA-AB-2841-03  TCGA-AB-2910-03  TCGA-AB-2920-03  \\\n",
       "0           4.5685           4.6315           4.8461           4.9947   \n",
       "1           0.0206           0.0000           0.0068           0.0105   \n",
       "2           0.0263           0.0205           0.0178           0.0119   \n",
       "3           6.0917           6.3663           5.6803           6.0212   \n",
       "4           4.0516           4.7545           4.2329           3.7790   \n",
       "\n",
       "   TCGA-AB-2986-03  ...  TCGA-AB-2946-03  TCGA-AB-2999-03  TCGA-AB-2938-03  \\\n",
       "0           5.1369  ...           4.7872           4.6204           4.9043   \n",
       "1           0.0062  ...           0.0000           0.0377           0.1892   \n",
       "2           0.0000  ...           0.0259           0.0345           0.0053   \n",
       "3           5.5240  ...           5.5981           5.6837           5.7704   \n",
       "4           4.6918  ...           4.2740           4.6785           4.7170   \n",
       "\n",
       "   TCGA-AB-2913-03  TCGA-AB-2810-03  TCGA-AB-2924-03  TCGA-AB-2937-03  \\\n",
       "0           4.5906           5.1216           4.7572           5.0893   \n",
       "1           0.0342           0.0230           0.0158           3.3688   \n",
       "2           0.0404           0.0335           0.0000           0.0240   \n",
       "3           5.6478           6.4578           5.6424           5.9336   \n",
       "4           4.5241           5.2825           4.2691           5.0298   \n",
       "\n",
       "   TCGA-AB-2966-03  TCGA-AB-3012-03  TCGA-AB-2954-03  \n",
       "0           5.0708           4.5537           4.6225  \n",
       "1           0.0541           0.0171           0.0126  \n",
       "2           0.0334           0.0009           0.0014  \n",
       "3           5.4772           5.9701           5.3745  \n",
       "4           5.0714           5.0994           3.9462  \n",
       "\n",
       "[5 rows x 180 columns]"
      ]
     },
     "execution_count": 3,
     "metadata": {},
     "output_type": "execute_result"
    }
   ],
   "source": [
    "egr1_data_pre = load_egr1_data()\n",
    "egr1_data_pre.head()"
   ]
  },
  {
   "cell_type": "code",
   "execution_count": 4,
   "id": "injured-battery",
   "metadata": {},
   "outputs": [
    {
     "data": {
      "text/html": [
       "<div>\n",
       "<style scoped>\n",
       "    .dataframe tbody tr th:only-of-type {\n",
       "        vertical-align: middle;\n",
       "    }\n",
       "\n",
       "    .dataframe tbody tr th {\n",
       "        vertical-align: top;\n",
       "    }\n",
       "\n",
       "    .dataframe thead th {\n",
       "        text-align: right;\n",
       "    }\n",
       "</style>\n",
       "<table border=\"1\" class=\"dataframe\">\n",
       "  <thead>\n",
       "    <tr style=\"text-align: right;\">\n",
       "      <th></th>\n",
       "      <th>id</th>\n",
       "      <th>gene</th>\n",
       "      <th>chrom</th>\n",
       "      <th>chromStart</th>\n",
       "      <th>chromEnd</th>\n",
       "      <th>strand</th>\n",
       "      <th>thickStart</th>\n",
       "      <th>thickEnd</th>\n",
       "      <th>blockCount</th>\n",
       "      <th>blockSizes</th>\n",
       "      <th>blockStarts</th>\n",
       "    </tr>\n",
       "  </thead>\n",
       "  <tbody>\n",
       "    <tr>\n",
       "      <th>0</th>\n",
       "      <td>LOC100506869</td>\n",
       "      <td>LOC100506869</td>\n",
       "      <td>chr12</td>\n",
       "      <td>57271751</td>\n",
       "      <td>57492717</td>\n",
       "      <td>+</td>\n",
       "      <td>57492718</td>\n",
       "      <td>57492717</td>\n",
       "      <td>2</td>\n",
       "      <td>167,255</td>\n",
       "      <td>0,220712</td>\n",
       "    </tr>\n",
       "    <tr>\n",
       "      <th>1</th>\n",
       "      <td>LOC102724604</td>\n",
       "      <td>LOC102724604</td>\n",
       "      <td>chr3</td>\n",
       "      <td>182621645</td>\n",
       "      <td>182642968</td>\n",
       "      <td>-</td>\n",
       "      <td>182642969</td>\n",
       "      <td>182642968</td>\n",
       "      <td>5</td>\n",
       "      <td>298,189,102,58,113</td>\n",
       "      <td>0,565,17435,18814,21211</td>\n",
       "    </tr>\n",
       "    <tr>\n",
       "      <th>2</th>\n",
       "      <td>MTVR2</td>\n",
       "      <td>MTVR2</td>\n",
       "      <td>chr17</td>\n",
       "      <td>52316462</td>\n",
       "      <td>52317273</td>\n",
       "      <td>-</td>\n",
       "      <td>52317274</td>\n",
       "      <td>52317273</td>\n",
       "      <td>1</td>\n",
       "      <td>812</td>\n",
       "      <td>0</td>\n",
       "    </tr>\n",
       "    <tr>\n",
       "      <th>3</th>\n",
       "      <td>LOC100506860</td>\n",
       "      <td>LOC100506860</td>\n",
       "      <td>chr7</td>\n",
       "      <td>130248763</td>\n",
       "      <td>130257245</td>\n",
       "      <td>+</td>\n",
       "      <td>130257246</td>\n",
       "      <td>130257245</td>\n",
       "      <td>4</td>\n",
       "      <td>162,141,233,411</td>\n",
       "      <td>0,1498,2436,8072</td>\n",
       "    </tr>\n",
       "    <tr>\n",
       "      <th>4</th>\n",
       "      <td>LOC102724601</td>\n",
       "      <td>LOC102724601</td>\n",
       "      <td>chr1</td>\n",
       "      <td>172357399</td>\n",
       "      <td>172395048</td>\n",
       "      <td>-</td>\n",
       "      <td>172395049</td>\n",
       "      <td>172395048</td>\n",
       "      <td>4</td>\n",
       "      <td>149,71,104,124</td>\n",
       "      <td>0,33989,37249,37526</td>\n",
       "    </tr>\n",
       "  </tbody>\n",
       "</table>\n",
       "</div>"
      ],
      "text/plain": [
       "             id          gene  chrom  chromStart   chromEnd strand  \\\n",
       "0  LOC100506869  LOC100506869  chr12    57271751   57492717      +   \n",
       "1  LOC102724604  LOC102724604   chr3   182621645  182642968      -   \n",
       "2         MTVR2         MTVR2  chr17    52316462   52317273      -   \n",
       "3  LOC100506860  LOC100506860   chr7   130248763  130257245      +   \n",
       "4  LOC102724601  LOC102724601   chr1   172357399  172395048      -   \n",
       "\n",
       "   thickStart   thickEnd  blockCount          blockSizes  \\\n",
       "0    57492718   57492717           2             167,255   \n",
       "1   182642969  182642968           5  298,189,102,58,113   \n",
       "2    52317274   52317273           1                 812   \n",
       "3   130257246  130257245           4     162,141,233,411   \n",
       "4   172395049  172395048           4      149,71,104,124   \n",
       "\n",
       "               blockStarts  \n",
       "0                 0,220712  \n",
       "1  0,565,17435,18814,21211  \n",
       "2                        0  \n",
       "3         0,1498,2436,8072  \n",
       "4      0,33989,37249,37526  "
      ]
     },
     "execution_count": 4,
     "metadata": {},
     "output_type": "execute_result"
    }
   ],
   "source": [
    "gene_map = load_gene_mapping()\n",
    "gene_map.head()"
   ]
  },
  {
   "cell_type": "code",
   "execution_count": 5,
   "id": "owned-ghana",
   "metadata": {},
   "outputs": [
    {
     "name": "stdout",
     "output_type": "stream",
     "text": [
      "<class 'pandas.core.frame.DataFrame'>\n",
      "RangeIndex: 20113 entries, 0 to 20112\n",
      "Columns: 180 entries, sample to TCGA-AB-2954-03\n",
      "dtypes: float64(179), object(1)\n",
      "memory usage: 27.6+ MB\n"
     ]
    }
   ],
   "source": [
    "egr1_data_pre.info()"
   ]
  },
  {
   "cell_type": "markdown",
   "id": "technological-opportunity",
   "metadata": {},
   "source": [
    "## Converting the data"
   ]
  },
  {
   "cell_type": "code",
   "execution_count": 6,
   "id": "average-dominican",
   "metadata": {},
   "outputs": [],
   "source": [
    "def convert_dataset(data):\n",
    "    data = data.transpose()\n",
    "    new_header = data.iloc[0]\n",
    "    data = data[1:]\n",
    "    data.columns = new_header\n",
    "    return data"
   ]
  },
  {
   "cell_type": "code",
   "execution_count": 7,
   "id": "dangerous-exception",
   "metadata": {},
   "outputs": [
    {
     "data": {
      "text/html": [
       "<div>\n",
       "<style scoped>\n",
       "    .dataframe tbody tr th:only-of-type {\n",
       "        vertical-align: middle;\n",
       "    }\n",
       "\n",
       "    .dataframe tbody tr th {\n",
       "        vertical-align: top;\n",
       "    }\n",
       "\n",
       "    .dataframe thead th {\n",
       "        text-align: right;\n",
       "    }\n",
       "</style>\n",
       "<table border=\"1\" class=\"dataframe\">\n",
       "  <thead>\n",
       "    <tr style=\"text-align: right;\">\n",
       "      <th>sample</th>\n",
       "      <th>UBE2Q1</th>\n",
       "      <th>HIF3A</th>\n",
       "      <th>RNF17</th>\n",
       "      <th>RNF10</th>\n",
       "      <th>RNF11</th>\n",
       "      <th>RNF13</th>\n",
       "      <th>LOC339240</th>\n",
       "      <th>REM1</th>\n",
       "      <th>REM2</th>\n",
       "      <th>SLC17A2</th>\n",
       "      <th>...</th>\n",
       "      <th>AP4M1</th>\n",
       "      <th>TULP2</th>\n",
       "      <th>NPY5R</th>\n",
       "      <th>METTL11B</th>\n",
       "      <th>GNGT1</th>\n",
       "      <th>PTRF</th>\n",
       "      <th>SERPINH1</th>\n",
       "      <th>NFIX</th>\n",
       "      <th>SELP</th>\n",
       "      <th>SELS</th>\n",
       "    </tr>\n",
       "  </thead>\n",
       "  <tbody>\n",
       "    <tr>\n",
       "      <th>TCGA-AB-2880-03</th>\n",
       "      <td>4.5844</td>\n",
       "      <td>0.0039</td>\n",
       "      <td>0.0338</td>\n",
       "      <td>5.915</td>\n",
       "      <td>4.1399</td>\n",
       "      <td>4.26</td>\n",
       "      <td>0.0</td>\n",
       "      <td>0.0</td>\n",
       "      <td>0.5026</td>\n",
       "      <td>0.0</td>\n",
       "      <td>...</td>\n",
       "      <td>2.9415</td>\n",
       "      <td>0.8686</td>\n",
       "      <td>0.0</td>\n",
       "      <td>0.0</td>\n",
       "      <td>0.0168</td>\n",
       "      <td>0.0804</td>\n",
       "      <td>1.5128</td>\n",
       "      <td>2.8916</td>\n",
       "      <td>0.6694</td>\n",
       "      <td>3.6215</td>\n",
       "    </tr>\n",
       "    <tr>\n",
       "      <th>TCGA-AB-2819-03</th>\n",
       "      <td>4.9574</td>\n",
       "      <td>0.7462</td>\n",
       "      <td>0.0201</td>\n",
       "      <td>5.5003</td>\n",
       "      <td>4.7407</td>\n",
       "      <td>4.1842</td>\n",
       "      <td>0.0</td>\n",
       "      <td>0.0</td>\n",
       "      <td>0.1909</td>\n",
       "      <td>0.0</td>\n",
       "      <td>...</td>\n",
       "      <td>2.9003</td>\n",
       "      <td>1.6265</td>\n",
       "      <td>0.0</td>\n",
       "      <td>0.0</td>\n",
       "      <td>0.0</td>\n",
       "      <td>0.8562</td>\n",
       "      <td>2.9365</td>\n",
       "      <td>3.8729</td>\n",
       "      <td>1.1842</td>\n",
       "      <td>4.3103</td>\n",
       "    </tr>\n",
       "    <tr>\n",
       "      <th>TCGA-AB-2875-03</th>\n",
       "      <td>4.6304</td>\n",
       "      <td>0.6472</td>\n",
       "      <td>0.0</td>\n",
       "      <td>5.643</td>\n",
       "      <td>4.1058</td>\n",
       "      <td>4.1313</td>\n",
       "      <td>0.0</td>\n",
       "      <td>0.0351</td>\n",
       "      <td>0.3683</td>\n",
       "      <td>0.0129</td>\n",
       "      <td>...</td>\n",
       "      <td>3.2132</td>\n",
       "      <td>1.0523</td>\n",
       "      <td>0.0</td>\n",
       "      <td>0.0</td>\n",
       "      <td>0.0267</td>\n",
       "      <td>0.4259</td>\n",
       "      <td>2.4843</td>\n",
       "      <td>3.835</td>\n",
       "      <td>2.308</td>\n",
       "      <td>3.8222</td>\n",
       "    </tr>\n",
       "    <tr>\n",
       "      <th>TCGA-AB-2808-03</th>\n",
       "      <td>4.6482</td>\n",
       "      <td>0.0305</td>\n",
       "      <td>0.026</td>\n",
       "      <td>5.7971</td>\n",
       "      <td>4.8867</td>\n",
       "      <td>4.5314</td>\n",
       "      <td>0.0</td>\n",
       "      <td>0.0421</td>\n",
       "      <td>0.4949</td>\n",
       "      <td>0.0</td>\n",
       "      <td>...</td>\n",
       "      <td>2.5941</td>\n",
       "      <td>0.2723</td>\n",
       "      <td>0.0</td>\n",
       "      <td>0.0</td>\n",
       "      <td>0.0</td>\n",
       "      <td>0.7469</td>\n",
       "      <td>1.5096</td>\n",
       "      <td>3.085</td>\n",
       "      <td>1.949</td>\n",
       "      <td>3.7343</td>\n",
       "    </tr>\n",
       "    <tr>\n",
       "      <th>TCGA-AB-2848-03</th>\n",
       "      <td>4.5685</td>\n",
       "      <td>0.0206</td>\n",
       "      <td>0.0263</td>\n",
       "      <td>6.0917</td>\n",
       "      <td>4.0516</td>\n",
       "      <td>4.3099</td>\n",
       "      <td>0.0</td>\n",
       "      <td>0.0</td>\n",
       "      <td>1.6417</td>\n",
       "      <td>0.0</td>\n",
       "      <td>...</td>\n",
       "      <td>3.2031</td>\n",
       "      <td>0.5258</td>\n",
       "      <td>0.0</td>\n",
       "      <td>0.0</td>\n",
       "      <td>0.0</td>\n",
       "      <td>0.1641</td>\n",
       "      <td>2.2657</td>\n",
       "      <td>3.2528</td>\n",
       "      <td>0.8104</td>\n",
       "      <td>3.9934</td>\n",
       "    </tr>\n",
       "  </tbody>\n",
       "</table>\n",
       "<p>5 rows × 20113 columns</p>\n",
       "</div>"
      ],
      "text/plain": [
       "sample           UBE2Q1   HIF3A   RNF17   RNF10   RNF11   RNF13 LOC339240  \\\n",
       "TCGA-AB-2880-03  4.5844  0.0039  0.0338   5.915  4.1399    4.26       0.0   \n",
       "TCGA-AB-2819-03  4.9574  0.7462  0.0201  5.5003  4.7407  4.1842       0.0   \n",
       "TCGA-AB-2875-03  4.6304  0.6472     0.0   5.643  4.1058  4.1313       0.0   \n",
       "TCGA-AB-2808-03  4.6482  0.0305   0.026  5.7971  4.8867  4.5314       0.0   \n",
       "TCGA-AB-2848-03  4.5685  0.0206  0.0263  6.0917  4.0516  4.3099       0.0   \n",
       "\n",
       "sample             REM1    REM2 SLC17A2  ...   AP4M1   TULP2 NPY5R METTL11B  \\\n",
       "TCGA-AB-2880-03     0.0  0.5026     0.0  ...  2.9415  0.8686   0.0      0.0   \n",
       "TCGA-AB-2819-03     0.0  0.1909     0.0  ...  2.9003  1.6265   0.0      0.0   \n",
       "TCGA-AB-2875-03  0.0351  0.3683  0.0129  ...  3.2132  1.0523   0.0      0.0   \n",
       "TCGA-AB-2808-03  0.0421  0.4949     0.0  ...  2.5941  0.2723   0.0      0.0   \n",
       "TCGA-AB-2848-03     0.0  1.6417     0.0  ...  3.2031  0.5258   0.0      0.0   \n",
       "\n",
       "sample            GNGT1    PTRF SERPINH1    NFIX    SELP    SELS  \n",
       "TCGA-AB-2880-03  0.0168  0.0804   1.5128  2.8916  0.6694  3.6215  \n",
       "TCGA-AB-2819-03     0.0  0.8562   2.9365  3.8729  1.1842  4.3103  \n",
       "TCGA-AB-2875-03  0.0267  0.4259   2.4843   3.835   2.308  3.8222  \n",
       "TCGA-AB-2808-03     0.0  0.7469   1.5096   3.085   1.949  3.7343  \n",
       "TCGA-AB-2848-03     0.0  0.1641   2.2657  3.2528  0.8104  3.9934  \n",
       "\n",
       "[5 rows x 20113 columns]"
      ]
     },
     "execution_count": 7,
     "metadata": {},
     "output_type": "execute_result"
    }
   ],
   "source": [
    "# test = convert_dataset(egr1_data)\n",
    "egr1_data_converted = convert_dataset(egr1_data_pre)\n",
    "egr1_data_converted.head()"
   ]
  },
  {
   "cell_type": "code",
   "execution_count": 8,
   "id": "handmade-briefing",
   "metadata": {},
   "outputs": [],
   "source": [
    "def get_percentile(data_col, per):\n",
    "    top = np.percentile(data_col, per)\n",
    "    bottom = np.percentile(data_col, 100 - per)\n",
    "    return top, bottom\n",
    "\n",
    "# 0 if top x percent\n",
    "# 1 if bottom x percent\n",
    "def convert_to_binary(data_col):\n",
    "    if data_col <= BOTTOM_PERCENTILE:\n",
    "        return 0\n",
    "    elif data_col >= TOP_PERCENTILE:\n",
    "        return 1\n",
    "    else:\n",
    "        return np.nan"
   ]
  },
  {
   "cell_type": "code",
   "execution_count": 9,
   "id": "moderate-ottawa",
   "metadata": {},
   "outputs": [],
   "source": [
    "data_egr1 = egr1_data_converted[\"EGR1\"]\n",
    "\n",
    "TOP_PERCENTILE, BOTTOM_PERCENTILE = get_percentile(data_egr1, 20)\n",
    "\n",
    "binary_data_egr1 = data_egr1.apply(convert_to_binary)\n",
    "egr1_data_converted.insert(0, \"binary\", binary_data_egr1)\n",
    "egr1_data = egr1_data_converted.dropna()"
   ]
  },
  {
   "cell_type": "code",
   "execution_count": 10,
   "id": "documentary-dating",
   "metadata": {
    "scrolled": false
   },
   "outputs": [
    {
     "data": {
      "text/html": [
       "<div>\n",
       "<style scoped>\n",
       "    .dataframe tbody tr th:only-of-type {\n",
       "        vertical-align: middle;\n",
       "    }\n",
       "\n",
       "    .dataframe tbody tr th {\n",
       "        vertical-align: top;\n",
       "    }\n",
       "\n",
       "    .dataframe thead th {\n",
       "        text-align: right;\n",
       "    }\n",
       "</style>\n",
       "<table border=\"1\" class=\"dataframe\">\n",
       "  <thead>\n",
       "    <tr style=\"text-align: right;\">\n",
       "      <th>sample</th>\n",
       "      <th>binary</th>\n",
       "      <th>UBE2Q1</th>\n",
       "      <th>HIF3A</th>\n",
       "      <th>RNF17</th>\n",
       "      <th>RNF10</th>\n",
       "      <th>RNF11</th>\n",
       "      <th>RNF13</th>\n",
       "      <th>LOC339240</th>\n",
       "      <th>REM1</th>\n",
       "      <th>REM2</th>\n",
       "      <th>...</th>\n",
       "      <th>AP4M1</th>\n",
       "      <th>TULP2</th>\n",
       "      <th>NPY5R</th>\n",
       "      <th>METTL11B</th>\n",
       "      <th>GNGT1</th>\n",
       "      <th>PTRF</th>\n",
       "      <th>SERPINH1</th>\n",
       "      <th>NFIX</th>\n",
       "      <th>SELP</th>\n",
       "      <th>SELS</th>\n",
       "    </tr>\n",
       "  </thead>\n",
       "  <tbody>\n",
       "    <tr>\n",
       "      <th>TCGA-AB-2924-03</th>\n",
       "      <td>0</td>\n",
       "      <td>4.7572</td>\n",
       "      <td>0.0158</td>\n",
       "      <td>0.0</td>\n",
       "      <td>5.6424</td>\n",
       "      <td>4.2691</td>\n",
       "      <td>4.593</td>\n",
       "      <td>0.0066</td>\n",
       "      <td>0.0</td>\n",
       "      <td>0.2723</td>\n",
       "      <td>...</td>\n",
       "      <td>3.3141</td>\n",
       "      <td>1.8516</td>\n",
       "      <td>0.0</td>\n",
       "      <td>0.0</td>\n",
       "      <td>0.0</td>\n",
       "      <td>1.2077</td>\n",
       "      <td>1.1074</td>\n",
       "      <td>5.0078</td>\n",
       "      <td>1.47</td>\n",
       "      <td>3.6946</td>\n",
       "    </tr>\n",
       "    <tr>\n",
       "      <th>TCGA-AB-2937-03</th>\n",
       "      <td>0</td>\n",
       "      <td>5.0893</td>\n",
       "      <td>3.3688</td>\n",
       "      <td>0.024</td>\n",
       "      <td>5.9336</td>\n",
       "      <td>5.0298</td>\n",
       "      <td>3.5059</td>\n",
       "      <td>0.0</td>\n",
       "      <td>0.599</td>\n",
       "      <td>0.4334</td>\n",
       "      <td>...</td>\n",
       "      <td>3.785</td>\n",
       "      <td>1.2992</td>\n",
       "      <td>0.0</td>\n",
       "      <td>0.0</td>\n",
       "      <td>0.0</td>\n",
       "      <td>2.6926</td>\n",
       "      <td>3.6703</td>\n",
       "      <td>4.9924</td>\n",
       "      <td>2.2473</td>\n",
       "      <td>3.7102</td>\n",
       "    </tr>\n",
       "    <tr>\n",
       "      <th>TCGA-AB-2966-03</th>\n",
       "      <td>0</td>\n",
       "      <td>5.0708</td>\n",
       "      <td>0.0541</td>\n",
       "      <td>0.0334</td>\n",
       "      <td>5.4772</td>\n",
       "      <td>5.0714</td>\n",
       "      <td>3.5594</td>\n",
       "      <td>0.0</td>\n",
       "      <td>0.0</td>\n",
       "      <td>0.3813</td>\n",
       "      <td>...</td>\n",
       "      <td>3.0351</td>\n",
       "      <td>0.2182</td>\n",
       "      <td>0.0</td>\n",
       "      <td>0.0</td>\n",
       "      <td>0.0192</td>\n",
       "      <td>0.2684</td>\n",
       "      <td>2.1336</td>\n",
       "      <td>3.1136</td>\n",
       "      <td>0.9361</td>\n",
       "      <td>3.5457</td>\n",
       "    </tr>\n",
       "    <tr>\n",
       "      <th>TCGA-AB-3012-03</th>\n",
       "      <td>1</td>\n",
       "      <td>4.5537</td>\n",
       "      <td>0.0171</td>\n",
       "      <td>0.0009</td>\n",
       "      <td>5.9701</td>\n",
       "      <td>5.0994</td>\n",
       "      <td>3.508</td>\n",
       "      <td>0.0</td>\n",
       "      <td>0.0404</td>\n",
       "      <td>0.473</td>\n",
       "      <td>...</td>\n",
       "      <td>3.1301</td>\n",
       "      <td>0.5279</td>\n",
       "      <td>0.0</td>\n",
       "      <td>0.0</td>\n",
       "      <td>0.0</td>\n",
       "      <td>1.8133</td>\n",
       "      <td>2.2934</td>\n",
       "      <td>4.0095</td>\n",
       "      <td>1.2359</td>\n",
       "      <td>4.3719</td>\n",
       "    </tr>\n",
       "    <tr>\n",
       "      <th>TCGA-AB-2954-03</th>\n",
       "      <td>1</td>\n",
       "      <td>4.6225</td>\n",
       "      <td>0.0126</td>\n",
       "      <td>0.0014</td>\n",
       "      <td>5.3745</td>\n",
       "      <td>3.9462</td>\n",
       "      <td>4.3482</td>\n",
       "      <td>0.0</td>\n",
       "      <td>0.048</td>\n",
       "      <td>0.8671</td>\n",
       "      <td>...</td>\n",
       "      <td>3.2054</td>\n",
       "      <td>1.0725</td>\n",
       "      <td>0.0</td>\n",
       "      <td>0.0</td>\n",
       "      <td>0.0</td>\n",
       "      <td>4.9972</td>\n",
       "      <td>2.6219</td>\n",
       "      <td>3.9422</td>\n",
       "      <td>0.6369</td>\n",
       "      <td>3.7816</td>\n",
       "    </tr>\n",
       "  </tbody>\n",
       "</table>\n",
       "<p>5 rows × 20114 columns</p>\n",
       "</div>"
      ],
      "text/plain": [
       "sample           binary  UBE2Q1   HIF3A   RNF17   RNF10   RNF11   RNF13  \\\n",
       "TCGA-AB-2924-03       0  4.7572  0.0158     0.0  5.6424  4.2691   4.593   \n",
       "TCGA-AB-2937-03       0  5.0893  3.3688   0.024  5.9336  5.0298  3.5059   \n",
       "TCGA-AB-2966-03       0  5.0708  0.0541  0.0334  5.4772  5.0714  3.5594   \n",
       "TCGA-AB-3012-03       1  4.5537  0.0171  0.0009  5.9701  5.0994   3.508   \n",
       "TCGA-AB-2954-03       1  4.6225  0.0126  0.0014  5.3745  3.9462  4.3482   \n",
       "\n",
       "sample          LOC339240    REM1    REM2  ...   AP4M1   TULP2 NPY5R METTL11B  \\\n",
       "TCGA-AB-2924-03    0.0066     0.0  0.2723  ...  3.3141  1.8516   0.0      0.0   \n",
       "TCGA-AB-2937-03       0.0   0.599  0.4334  ...   3.785  1.2992   0.0      0.0   \n",
       "TCGA-AB-2966-03       0.0     0.0  0.3813  ...  3.0351  0.2182   0.0      0.0   \n",
       "TCGA-AB-3012-03       0.0  0.0404   0.473  ...  3.1301  0.5279   0.0      0.0   \n",
       "TCGA-AB-2954-03       0.0   0.048  0.8671  ...  3.2054  1.0725   0.0      0.0   \n",
       "\n",
       "sample            GNGT1    PTRF SERPINH1    NFIX    SELP    SELS  \n",
       "TCGA-AB-2924-03     0.0  1.2077   1.1074  5.0078    1.47  3.6946  \n",
       "TCGA-AB-2937-03     0.0  2.6926   3.6703  4.9924  2.2473  3.7102  \n",
       "TCGA-AB-2966-03  0.0192  0.2684   2.1336  3.1136  0.9361  3.5457  \n",
       "TCGA-AB-3012-03     0.0  1.8133   2.2934  4.0095  1.2359  4.3719  \n",
       "TCGA-AB-2954-03     0.0  4.9972   2.6219  3.9422  0.6369  3.7816  \n",
       "\n",
       "[5 rows x 20114 columns]"
      ]
     },
     "execution_count": 10,
     "metadata": {},
     "output_type": "execute_result"
    }
   ],
   "source": [
    "egr1_data.tail()\n",
    "# egr1_data.tail()\n",
    "# egr1_data.info()"
   ]
  },
  {
   "cell_type": "markdown",
   "id": "varied-complement",
   "metadata": {},
   "source": [
    "## Separate training and testing sets"
   ]
  },
  {
   "cell_type": "code",
   "execution_count": 11,
   "id": "korean-petite",
   "metadata": {},
   "outputs": [],
   "source": [
    "def get_xy_training_testing(dataframe):\n",
    "    train_set, test_set = train_test_split(dataframe, test_size=0.4, random_state=42)\n",
    "    X_train = train_set.drop(\"EGR1\", axis=1)\n",
    "    X_train = X_train.drop(\"binary\", axis=1)\n",
    "    X_test = test_set.drop(\"EGR1\", axis=1)\n",
    "    X_test = X_test.drop(\"binary\", axis=1)\n",
    "    y_train = train_set[\"binary\"]\n",
    "    y_test = test_set[\"binary\"]\n",
    "    return X_train, X_test, y_train, y_test"
   ]
  },
  {
   "cell_type": "code",
   "execution_count": 12,
   "id": "owned-colon",
   "metadata": {},
   "outputs": [],
   "source": [
    "X_train, X_test, y_train, y_test = get_xy_training_testing(egr1_data)"
   ]
  },
  {
   "cell_type": "code",
   "execution_count": 13,
   "id": "military-aerospace",
   "metadata": {},
   "outputs": [
    {
     "name": "stdout",
     "output_type": "stream",
     "text": [
      "TCGA-AB-2848-03    0\n",
      "TCGA-AB-3002-03    0\n",
      "TCGA-AB-2990-03    1\n",
      "TCGA-AB-2886-03    0\n",
      "TCGA-AB-2938-03    0\n",
      "Name: binary, dtype: int64\n"
     ]
    }
   ],
   "source": [
    "print(y_train.head())"
   ]
  },
  {
   "cell_type": "markdown",
   "id": "sitting-evanescence",
   "metadata": {},
   "source": [
    "## SGDClassifier"
   ]
  },
  {
   "cell_type": "code",
   "execution_count": 14,
   "id": "exceptional-boring",
   "metadata": {},
   "outputs": [
    {
     "data": {
      "text/plain": [
       "SGDClassifier(random_state=42)"
      ]
     },
     "execution_count": 14,
     "metadata": {},
     "output_type": "execute_result"
    }
   ],
   "source": [
    "sgd_clf = SGDClassifier(random_state=42)\n",
    "sgd_clf.fit(X_train, y_train)"
   ]
  },
  {
   "cell_type": "code",
   "execution_count": 15,
   "id": "large-isolation",
   "metadata": {},
   "outputs": [
    {
     "data": {
      "text/plain": [
       "array([0.30555556, 0.77777778, 0.45714286])"
      ]
     },
     "execution_count": 15,
     "metadata": {},
     "output_type": "execute_result"
    }
   ],
   "source": [
    "cross_val_score(sgd_clf, X_train, y_train, cv=3, scoring=\"accuracy\")"
   ]
  },
  {
   "cell_type": "markdown",
   "id": "collective-kinase",
   "metadata": {},
   "source": [
    "## Logistic Regression"
   ]
  },
  {
   "cell_type": "markdown",
   "id": "civil-swiss",
   "metadata": {},
   "source": [
    "### Logistic Regression Training"
   ]
  },
  {
   "cell_type": "code",
   "execution_count": 16,
   "id": "popular-salem",
   "metadata": {},
   "outputs": [
    {
     "data": {
      "text/plain": [
       "LogisticRegression(max_iter=300, random_state=42)"
      ]
     },
     "execution_count": 16,
     "metadata": {},
     "output_type": "execute_result"
    }
   ],
   "source": [
    "logistic_regr = LogisticRegression(random_state=42, max_iter=300)\n",
    "logistic_regr.fit(X_train, y_train)"
   ]
  },
  {
   "cell_type": "code",
   "execution_count": 17,
   "id": "transsexual-saint",
   "metadata": {},
   "outputs": [],
   "source": [
    "predictions = logistic_regr.predict(X_test)"
   ]
  },
  {
   "cell_type": "code",
   "execution_count": 18,
   "id": "resident-booking",
   "metadata": {},
   "outputs": [
    {
     "name": "stdout",
     "output_type": "stream",
     "text": [
      "TCGA-AB-2848-03    0\n",
      "TCGA-AB-3002-03    0\n",
      "TCGA-AB-2990-03    1\n",
      "TCGA-AB-2886-03    0\n",
      "TCGA-AB-2938-03    0\n",
      "                  ..\n",
      "TCGA-AB-2944-03    0\n",
      "TCGA-AB-3011-03    1\n",
      "TCGA-AB-2942-03    1\n",
      "TCGA-AB-2835-03    0\n",
      "TCGA-AB-2865-03    0\n",
      "Name: binary, Length: 107, dtype: int64\n"
     ]
    }
   ],
   "source": [
    "print(y_train)"
   ]
  },
  {
   "cell_type": "markdown",
   "id": "demonstrated-integrity",
   "metadata": {},
   "source": [
    "### Logistic Regression Scoring"
   ]
  },
  {
   "cell_type": "code",
   "execution_count": 19,
   "id": "empty-weekly",
   "metadata": {},
   "outputs": [
    {
     "name": "stdout",
     "output_type": "stream",
     "text": [
      "1.0\n",
      "0.8611111111111112\n"
     ]
    }
   ],
   "source": [
    "score = logistic_regr.score(X_train, y_train)\n",
    "print(score)\n",
    "score = logistic_regr.score(X_test, y_test)\n",
    "print(score)"
   ]
  },
  {
   "cell_type": "markdown",
   "id": "indirect-copyright",
   "metadata": {},
   "source": [
    "### Logistic Regression Feature Importance"
   ]
  },
  {
   "cell_type": "code",
   "execution_count": 20,
   "id": "commercial-dallas",
   "metadata": {},
   "outputs": [
    {
     "data": {
      "image/png": "[encoded data removed]",
      "text/plain": [
       "<Figure size 432x288 with 1 Axes>"
      ]
     },
     "metadata": {
      "needs_background": "light"
     },
     "output_type": "display_data"
    }
   ],
   "source": [
    "importance = logistic_regr.coef_[0]\n",
    "pyplot.bar([x for x in range(len(importance))], importance)\n",
    "pyplot.show()"
   ]
  },
  {
   "cell_type": "markdown",
   "id": "dimensional-traveler",
   "metadata": {},
   "source": [
    "## Decision Tree"
   ]
  },
  {
   "cell_type": "markdown",
   "id": "former-partition",
   "metadata": {},
   "source": [
    "### Decision Tree Training"
   ]
  },
  {
   "cell_type": "code",
   "execution_count": 21,
   "id": "scientific-diesel",
   "metadata": {},
   "outputs": [
    {
     "data": {
      "text/plain": [
       "DecisionTreeClassifier(max_depth=3, max_leaf_nodes=30, min_samples_leaf=10,\n",
       "                       min_samples_split=20)"
      ]
     },
     "execution_count": 21,
     "metadata": {},
     "output_type": "execute_result"
    }
   ],
   "source": [
    "clf = DecisionTreeClassifier(max_depth=3, max_leaf_nodes=30, min_samples_split=20, min_samples_leaf=10)\n",
    "# min_samples_split=5-7\n",
    "# min_samples_leaf=10\n",
    "clf.fit(X_train, y_train)"
   ]
  },
  {
   "cell_type": "code",
   "execution_count": 22,
   "id": "coated-shopping",
   "metadata": {},
   "outputs": [
    {
     "data": {
      "text/plain": [
       "[Text(167.4, 190.26, 'X[16120] <= 6.12\\ngini = 0.337\\nsamples = 107\\nvalue = [84, 23]'),\n",
       " Text(83.7, 135.9, 'X[4545] <= 0.461\\ngini = 0.156\\nsamples = 82\\nvalue = [75, 7]'),\n",
       " Text(41.85, 81.53999999999999, 'gini = 0.49\\nsamples = 14\\nvalue = [8, 6]'),\n",
       " Text(125.55000000000001, 81.53999999999999, 'X[2405] <= 3.668\\ngini = 0.029\\nsamples = 68\\nvalue = [67, 1]'),\n",
       " Text(83.7, 27.180000000000007, 'gini = 0.0\\nsamples = 58\\nvalue = [58, 0]'),\n",
       " Text(167.4, 27.180000000000007, 'gini = 0.18\\nsamples = 10\\nvalue = [9, 1]'),\n",
       " Text(251.10000000000002, 135.9, 'X[17794] <= 0.007\\ngini = 0.461\\nsamples = 25\\nvalue = [9, 16]'),\n",
       " Text(209.25, 81.53999999999999, 'gini = 0.426\\nsamples = 13\\nvalue = [9, 4]'),\n",
       " Text(292.95, 81.53999999999999, 'gini = 0.0\\nsamples = 12\\nvalue = [0, 12]')]"
      ]
     },
     "execution_count": 22,
     "metadata": {},
     "output_type": "execute_result"
    },
    {
     "data": {
      "image/png": "[encoded data removed]",
      "text/plain": [
       "<Figure size 432x288 with 1 Axes>"
      ]
     },
     "metadata": {
      "needs_background": "light"
     },
     "output_type": "display_data"
    }
   ],
   "source": [
    "plot_tree(clf)\n",
    "# change to random forrest\n",
    "# bootstrapping"
   ]
  },
  {
   "cell_type": "markdown",
   "id": "dated-ethiopia",
   "metadata": {},
   "source": [
    "### Decision Tree Scoring"
   ]
  },
  {
   "cell_type": "code",
   "execution_count": 23,
   "id": "stable-vermont",
   "metadata": {},
   "outputs": [],
   "source": [
    "train_predict = clf.predict(X_train)\n",
    "test_predict = clf.predict(X_test)"
   ]
  },
  {
   "cell_type": "code",
   "execution_count": 24,
   "id": "earned-graphic",
   "metadata": {},
   "outputs": [
    {
     "name": "stdout",
     "output_type": "stream",
     "text": [
      "Training accuracy:  0.897196261682243\n",
      "Test accuracy:  0.8055555555555556\n"
     ]
    }
   ],
   "source": [
    "print(\"Training accuracy: \", accuracy_score(y_train, train_predict))\n",
    "print(\"Test accuracy: \", accuracy_score(y_test, test_predict))"
   ]
  },
  {
   "cell_type": "markdown",
   "id": "respiratory-broadway",
   "metadata": {},
   "source": [
    "### Decision Tree Feature Importance"
   ]
  },
  {
   "cell_type": "code",
   "execution_count": 25,
   "id": "metric-population",
   "metadata": {},
   "outputs": [
    {
     "data": {
      "text/html": [
       "<div>\n",
       "<style scoped>\n",
       "    .dataframe tbody tr th:only-of-type {\n",
       "        vertical-align: middle;\n",
       "    }\n",
       "\n",
       "    .dataframe tbody tr th {\n",
       "        vertical-align: top;\n",
       "    }\n",
       "\n",
       "    .dataframe thead th {\n",
       "        text-align: right;\n",
       "    }\n",
       "</style>\n",
       "<table border=\"1\" class=\"dataframe\">\n",
       "  <thead>\n",
       "    <tr style=\"text-align: right;\">\n",
       "      <th></th>\n",
       "      <th>Feature_names</th>\n",
       "      <th>Importances</th>\n",
       "    </tr>\n",
       "  </thead>\n",
       "  <tbody>\n",
       "    <tr>\n",
       "      <th>16120</th>\n",
       "      <td>RHOB</td>\n",
       "      <td>0.537825</td>\n",
       "    </tr>\n",
       "    <tr>\n",
       "      <th>17794</th>\n",
       "      <td>PCLO</td>\n",
       "      <td>0.272923</td>\n",
       "    </tr>\n",
       "    <tr>\n",
       "      <th>4545</th>\n",
       "      <td>HLA-DQB2</td>\n",
       "      <td>0.181468</td>\n",
       "    </tr>\n",
       "    <tr>\n",
       "      <th>2405</th>\n",
       "      <td>ACTR8</td>\n",
       "      <td>0.007784</td>\n",
       "    </tr>\n",
       "    <tr>\n",
       "      <th>13405</th>\n",
       "      <td>SS18L1</td>\n",
       "      <td>0.000000</td>\n",
       "    </tr>\n",
       "    <tr>\n",
       "      <th>...</th>\n",
       "      <td>...</td>\n",
       "      <td>...</td>\n",
       "    </tr>\n",
       "    <tr>\n",
       "      <th>6705</th>\n",
       "      <td>CLCA3P</td>\n",
       "      <td>0.000000</td>\n",
       "    </tr>\n",
       "    <tr>\n",
       "      <th>6704</th>\n",
       "      <td>SFTPD</td>\n",
       "      <td>0.000000</td>\n",
       "    </tr>\n",
       "    <tr>\n",
       "      <th>6703</th>\n",
       "      <td>EEPD1</td>\n",
       "      <td>0.000000</td>\n",
       "    </tr>\n",
       "    <tr>\n",
       "      <th>6702</th>\n",
       "      <td>C20orf111</td>\n",
       "      <td>0.000000</td>\n",
       "    </tr>\n",
       "    <tr>\n",
       "      <th>20111</th>\n",
       "      <td>SELS</td>\n",
       "      <td>0.000000</td>\n",
       "    </tr>\n",
       "  </tbody>\n",
       "</table>\n",
       "<p>20112 rows × 2 columns</p>\n",
       "</div>"
      ],
      "text/plain": [
       "      Feature_names  Importances\n",
       "16120          RHOB     0.537825\n",
       "17794          PCLO     0.272923\n",
       "4545       HLA-DQB2     0.181468\n",
       "2405          ACTR8     0.007784\n",
       "13405        SS18L1     0.000000\n",
       "...             ...          ...\n",
       "6705         CLCA3P     0.000000\n",
       "6704          SFTPD     0.000000\n",
       "6703          EEPD1     0.000000\n",
       "6702      C20orf111     0.000000\n",
       "20111          SELS     0.000000\n",
       "\n",
       "[20112 rows x 2 columns]"
      ]
     },
     "execution_count": 25,
     "metadata": {},
     "output_type": "execute_result"
    }
   ],
   "source": [
    "feature_df = pd.DataFrame({\"Feature_names\": X_test.columns, \"Importances\": clf.feature_importances_})\n",
    "feature_df.sort_values(by=\"Importances\", ascending=False)"
   ]
  },
  {
   "cell_type": "markdown",
   "id": "honest-replication",
   "metadata": {},
   "source": [
    "## Elastic Net"
   ]
  },
  {
   "cell_type": "code",
   "execution_count": 26,
   "id": "organized-violin",
   "metadata": {},
   "outputs": [],
   "source": [
    "elastic_net = ElasticNet(alpha=0.2, l1_ratio=0.1)\n",
    "elastic_net.fit(X_train, y_train)\n",
    "el_train_predict = elastic_net.predict(X_train)\n",
    "el_test_predict = elastic_net.predict(X_test)"
   ]
  },
  {
   "cell_type": "code",
   "execution_count": 27,
   "id": "basic-contact",
   "metadata": {},
   "outputs": [
    {
     "name": "stdout",
     "output_type": "stream",
     "text": [
      "0.8785919377936495\n",
      "0.22402276787843578\n"
     ]
    }
   ],
   "source": [
    "el_score_train = elastic_net.score(X_train, y_train)\n",
    "print(el_score_train)\n",
    "el_score_test = elastic_net.score(X_test, y_test)\n",
    "print(el_score_test)"
   ]
  },
  {
   "cell_type": "code",
   "execution_count": null,
   "id": "statistical-kidney",
   "metadata": {},
   "outputs": [],
   "source": []
  }
 ],
 "metadata": {
  "kernelspec": {
   "display_name": "Python 3",
   "language": "python",
   "name": "python3"
  },
  "language_info": {
   "codemirror_mode": {
    "name": "ipython",
    "version": 3
   },
   "file_extension": ".py",
   "mimetype": "text/x-python",
   "name": "python",
   "nbconvert_exporter": "python",
   "pygments_lexer": "ipython3",
   "version": "3.8.2"
  }
 },
 "nbformat": 4,
 "nbformat_minor": 5
}
